{
  "nbformat": 4,
  "nbformat_minor": 0,
  "metadata": {
    "colab": {
      "provenance": [],
      "toc_visible": true
    },
    "kernelspec": {
      "name": "python3",
      "display_name": "Python 3"
    },
    "language_info": {
      "name": "python"
    }
  },
  "cells": [
    {
      "cell_type": "code",
      "source": [
        "!pip install yadisk"
      ],
      "metadata": {
        "id": "w1eVW1H0TieS",
        "colab": {
          "base_uri": "https://localhost:8080/"
        },
        "outputId": "959d602b-2a0c-48c5-fe9a-e7a978f1b6a2"
      },
      "execution_count": 4,
      "outputs": [
        {
          "output_type": "stream",
          "name": "stdout",
          "text": [
            "Collecting yadisk\n",
            "  Downloading yadisk-1.3.4-py3-none-any.whl (55 kB)\n",
            "\u001b[?25l     \u001b[90m━━━━━━━━━━━━━━━━━━━━━━━━━━━━━━━━━━━━━━━━\u001b[0m \u001b[32m0.0/55.5 kB\u001b[0m \u001b[31m?\u001b[0m eta \u001b[36m-:--:--\u001b[0m\r\u001b[2K     \u001b[90m━━━━━━━━━━━━━━━━━━━━━━━━━━━━━━━━━━━━━━━━\u001b[0m \u001b[32m55.5/55.5 kB\u001b[0m \u001b[31m1.6 MB/s\u001b[0m eta \u001b[36m0:00:00\u001b[0m\n",
            "\u001b[?25hRequirement already satisfied: requests in /usr/local/lib/python3.10/dist-packages (from yadisk) (2.31.0)\n",
            "Requirement already satisfied: charset-normalizer<4,>=2 in /usr/local/lib/python3.10/dist-packages (from requests->yadisk) (3.3.2)\n",
            "Requirement already satisfied: idna<4,>=2.5 in /usr/local/lib/python3.10/dist-packages (from requests->yadisk) (3.6)\n",
            "Requirement already satisfied: urllib3<3,>=1.21.1 in /usr/local/lib/python3.10/dist-packages (from requests->yadisk) (2.0.7)\n",
            "Requirement already satisfied: certifi>=2017.4.17 in /usr/local/lib/python3.10/dist-packages (from requests->yadisk) (2023.11.17)\n",
            "Installing collected packages: yadisk\n",
            "Successfully installed yadisk-1.3.4\n"
          ]
        }
      ]
    },
    {
      "cell_type": "code",
      "source": [
        "import yadisk\n",
        "import os\n",
        "from tqdm import tqdm\n",
        "import sys\n",
        "import openpyxl\n",
        "import pandas as pd\n",
        "import re\n",
        "import numpy as np\n",
        "import gspread\n",
        "from oauth2client.service_account import ServiceAccountCredentials\n",
        "import matplotlib.pyplot as plt"
      ],
      "metadata": {
        "id": "EdksjCmTNdjQ"
      },
      "execution_count": 5,
      "outputs": []
    },
    {
      "cell_type": "code",
      "source": [
        "#removing warnings\n",
        "import warnings\n",
        "warnings.filterwarnings(\"ignore\")"
      ],
      "metadata": {
        "id": "1fsMOwXxtiE0"
      },
      "execution_count": 6,
      "outputs": []
    },
    {
      "cell_type": "code",
      "source": [
        "#setting display option\n",
        "pd.set_option('display.precision', 2)"
      ],
      "metadata": {
        "id": "EKZqFSJpuFct"
      },
      "execution_count": 7,
      "outputs": []
    },
    {
      "cell_type": "markdown",
      "source": [
        "### Download files from yandeks disk"
      ],
      "metadata": {
        "id": "qQ4kWLVZ7bzD"
      }
    },
    {
      "cell_type": "code",
      "source": [
        "app_id = '...'\n",
        "secret_id = '...'"
      ],
      "metadata": {
        "id": "oguvJSCKZCtB"
      },
      "execution_count": 8,
      "outputs": []
    },
    {
      "cell_type": "code",
      "source": [
        "y = yadisk.YaDisk(app_id, secret_id)\n",
        "url = y.get_code_url()\n",
        "print(\"Go to the following url: %s\" % url)\n",
        "code = input(\"Enter the confirmation code: \")\n",
        "\n",
        "try:\n",
        "    response = y.get_token(code)\n",
        "except yadisk.exceptions.BadRequestError:\n",
        "    print(\"Bad code\")\n",
        "    sys.exit(1)\n",
        "y.token = response.access_token\n",
        "if y.check_token():\n",
        "    print(\"Connected.\")\n",
        "else:\n",
        "    print(\"Something wrong.\")"
      ],
      "metadata": {
        "id": "_sQ-6tIANdna",
        "colab": {
          "base_uri": "https://localhost:8080/"
        },
        "outputId": "ef137c02-2f00-480a-c460-e7dcbaaa83fc"
      },
      "execution_count": 9,
      "outputs": [
        {
          "output_type": "stream",
          "name": "stdout",
          "text": [
            "Go to the following url: https://oauth.yandex.ru/authorize?response_type=code&client_id=734e4c9f1eab43f8b6526a157f6a7ee6&display=popup&force_confirm=yes\n",
            "Enter the confirmation code: 7369026\n",
            "Connected.\n"
          ]
        }
      ]
    },
    {
      "cell_type": "code",
      "source": [
        "#collecting the list of files to download\n",
        "list_of_files = []\n",
        "for item in list(y.listdir('file_processor')):\n",
        "    if item['path'].endswith('.xlsx') or item['path'].endswith('.json'):\n",
        "        list_of_files.append(item['path'])"
      ],
      "metadata": {
        "id": "XNBL2BxGdRNY"
      },
      "execution_count": 10,
      "outputs": []
    },
    {
      "cell_type": "code",
      "source": [
        "#creating folder to put files in and going there\n",
        "load_path = '/content/lab'\n",
        "if not os.path.exists(load_path):\n",
        "    os.mkdir(load_path)\n",
        "os.chdir(load_path)"
      ],
      "metadata": {
        "id": "xtuR55cP0-91"
      },
      "execution_count": 11,
      "outputs": []
    },
    {
      "cell_type": "code",
      "source": [
        "#downloading files from yandex disk\n",
        "for file in tqdm(list_of_files):\n",
        "  if file.split('/')[-1] not in os.listdir():\n",
        "    y.download(file.split(':')[1], file.split('/')[-1])"
      ],
      "metadata": {
        "id": "jKjJTanB1tjB",
        "colab": {
          "base_uri": "https://localhost:8080/"
        },
        "outputId": "bbab68a8-c5cd-4aaa-d7f5-130037c57942"
      },
      "execution_count": 12,
      "outputs": [
        {
          "output_type": "stream",
          "name": "stderr",
          "text": [
            "100%|██████████| 148/148 [05:00<00:00,  2.03s/it]\n"
          ]
        }
      ]
    },
    {
      "cell_type": "markdown",
      "source": [
        "### Splitting files into 4 lists, which will be used to concatenate tables."
      ],
      "metadata": {
        "id": "M3lqjxqC7MXU"
      }
    },
    {
      "cell_type": "code",
      "source": [
        "#functions check what is in the first rows of tables\n",
        "\n",
        "#checking if there is target string in the fist rows of table\n",
        "def check_string_in_first_rows(worksheet, target_string):\n",
        "    for row in worksheet.iter_rows(min_row=0, max_row=5):\n",
        "        for cell in row:\n",
        "            if cell.value and target_string.upper() in str(cell.value).upper():\n",
        "                return True\n",
        "    return False\n",
        "\n",
        "#returning the list of tables that contain the target string\n",
        "def check_first_rows(list, target_string):\n",
        "    list_of_tables = []\n",
        "    for name in list:\n",
        "      file_path = f'/content/lab/{name}'\n",
        "      workbook = openpyxl.load_workbook(file_path, read_only=True)\n",
        "      worksheet = workbook.worksheets[0]\n",
        "\n",
        "      if check_string_in_first_rows(worksheet, target_string):\n",
        "          list_of_tables.append(file_path.split('/')[-1])\n",
        "\n",
        "    return list_of_tables"
      ],
      "metadata": {
        "id": "Gn_ZGgdMz3jK"
      },
      "execution_count": 13,
      "outputs": []
    },
    {
      "cell_type": "code",
      "source": [
        "#splitting into lists by file name\n",
        "sop_list, zno_list = [], []\n",
        "for name in os.listdir():\n",
        "  if 'состояние_онко_помощи' in name.lower():\n",
        "    sop_list.append(name)\n",
        "  if 'злокачественные_новообразования' in name.lower():\n",
        "      zno_list.append(name)"
      ],
      "metadata": {
        "id": "UBYaJuYlNt1Z"
      },
      "execution_count": 14,
      "outputs": []
    },
    {
      "cell_type": "code",
      "source": [
        "#splitting into lists by first rows of tables\n",
        "target_strings_sop = ['лечении злокачественных', 'контингенте']\n",
        "target_strings_zno = ['заболеваемость населения', 'смертность населения']\n",
        "\n",
        "sop_treatment = check_first_rows(sop_list, target_strings_sop[0])\n",
        "sop_population = check_first_rows(sop_list, target_strings_sop[1])\n",
        "zno_incidence = check_first_rows(zno_list, target_strings_zno[0])\n",
        "zno_mortality = check_first_rows(zno_list, target_strings_zno[1])"
      ],
      "metadata": {
        "id": "i2yeW0QCO2ys"
      },
      "execution_count": 15,
      "outputs": []
    },
    {
      "cell_type": "markdown",
      "source": [
        "### All functions"
      ],
      "metadata": {
        "id": "XF6HEAG8dRBl"
      }
    },
    {
      "cell_type": "code",
      "source": [
        "#function to extract data from the first cell of Состояние_онко_помощи table to collect data for extra columns:\n",
        "#year, desease localization, icd code, table number\n",
        "def sop_new_cols(table):\n",
        "\n",
        "    values = {}\n",
        "\n",
        "    #open file\n",
        "    workbook = openpyxl.load_workbook(table, read_only=True)\n",
        "    worksheet = workbook.worksheets[0]\n",
        "\n",
        "    #read first cell\n",
        "    first_cell = worksheet.cell(row=1, column=1).value\n",
        "\n",
        "    #year\n",
        "    year_match = re.search(r'\\b\\d{4}\\b', first_cell)\n",
        "    year = year_match.group(0) if year_match else None\n",
        "    values.update({'year': year})\n",
        "\n",
        "    #localization\n",
        "    name_match = re.search(r'\\n(.*?)(\\(C\\d+|\\(С\\d+)', first_cell)\n",
        "    name = name_match.group(1).strip() if name_match else None\n",
        "    values.update({'localization': name})\n",
        "\n",
        "    #icd code\n",
        "    code_match = re.search(r'\\((C[^)]+|С[^)]+)\\)', first_cell)\n",
        "    code = code_match.group(1) if code_match else None\n",
        "    values.update({'icd_code': code})\n",
        "\n",
        "    #table number\n",
        "    table_match = re.search(r'Таблица (\\d+)', first_cell)\n",
        "    table = table_match.group(1) if table_match else table.split('_')[2]\n",
        "    values.update({'table': table})\n",
        "\n",
        "    return values"
      ],
      "metadata": {
        "id": "mCwKiCu2cbYp"
      },
      "execution_count": 16,
      "outputs": []
    },
    {
      "cell_type": "code",
      "source": [
        "#function to extract data from the first cell of Злокачественные_новообразования table to collect data for extra columns:\n",
        "#year, desease localization, icd code, table number\n",
        "def zno_new_cols(table):\n",
        "\n",
        "    values = {}\n",
        "\n",
        "    workbook = openpyxl.load_workbook(table, read_only=True)\n",
        "    worksheet = workbook.worksheets[0]\n",
        "\n",
        "    if worksheet['B3'].value is None:\n",
        "      year_match = re.search(r'\\d{4}$', worksheet['A3'].value)\n",
        "      year = year_match.group(0).strip() if year_match else None\n",
        "    else:\n",
        "      year = worksheet['B3'].value\n",
        "    values.update({'year': year})\n",
        "\n",
        "    if worksheet['B4'].value is None:\n",
        "      name_match = re.search(r': (.*?)(\\(C\\d+|\\(С\\d+)', worksheet['A4'].value)\n",
        "    else:\n",
        "      name_match = re.search(r'(.*?)(\\(C\\d+|\\(С\\d+)', worksheet['B4'].value)\n",
        "    name = name_match.group(1).strip() if name_match else worksheet['B4'].value.strip()\n",
        "    values.update({'localization': name})\n",
        "\n",
        "    if worksheet['B4'].value is None:\n",
        "      code_match = re.search(r'\\((C[^)]+|С[^)]+)\\)', worksheet['A4'].value)\n",
        "    else:\n",
        "      code_match = re.search(r'\\((C[^)]+|С[^)]+)\\)', worksheet['B4'].value)\n",
        "    code = code_match.group(1) if code_match else worksheet['B4'].value.strip()\n",
        "    values.update({'icd_code': code})\n",
        "\n",
        "    table_match = re.search(r'Таблица (\\d+)', worksheet['A1'].value)\n",
        "    table = table_match.group(1) if table_match else table.split('_')[2]\n",
        "    values.update({'table': table})\n",
        "\n",
        "    return values"
      ],
      "metadata": {
        "id": "AxeWkuS9L9Y4"
      },
      "execution_count": 17,
      "outputs": []
    },
    {
      "cell_type": "code",
      "source": [
        "#function to join columns multiindex and do some minor corrections\n",
        "def column_names_change(df):\n",
        "  df.columns = df.columns.map(lambda x: ' '.join(map(str, x))) \\\n",
        "                                          .str.replace('\\n', ' ') \\\n",
        "                                          .str.replace(r'Unnamed: \\d+_level_\\d+|- |\\.\\d$', '', regex=True) \\\n",
        "                                          .str.strip()\n",
        "  df.columns = [' '.join(s.split()).lower() for s in df.columns]\n",
        "  df = df.rename(columns={df.columns[0]: 'республика, край, область'})\n",
        "  return df.columns"
      ],
      "metadata": {
        "id": "QNMsSjTqts2T"
      },
      "execution_count": 18,
      "outputs": []
    },
    {
      "cell_type": "code",
      "source": [
        "#function to remove rows with aggregated data\n",
        "def remove_aggregated_lines(df):\n",
        "  df = df[~df.iloc[:, 0].str.contains('россия', case=False) & \\\n",
        "          ~df.iloc[:, 0].str.contains('ФО')] \\\n",
        "          .reset_index(drop=True)\n",
        "  return df"
      ],
      "metadata": {
        "id": "CrhTV9iSdjlH"
      },
      "execution_count": 19,
      "outputs": []
    },
    {
      "cell_type": "markdown",
      "source": [
        "### Building the dataset using data from tables Состояние онко помощи (лечение)."
      ],
      "metadata": {
        "id": "kLUEQ-dr62er"
      }
    },
    {
      "cell_type": "code",
      "source": [
        "#read first table\n",
        "data_sop_treatment = pd.read_excel(sop_treatment[0], header=[1,2])\n",
        "\n",
        "#create new columns with year, localization of desease, idc code, table number\n",
        "new_cols = sop_new_cols(sop_treatment[0])\n",
        "for key, value in new_cols.items():\n",
        "    data_sop_treatment[key] = value"
      ],
      "metadata": {
        "id": "lbL5HyYBIKGm"
      },
      "execution_count": 20,
      "outputs": []
    },
    {
      "cell_type": "code",
      "source": [
        "#build the dictionary: each region belongs to what federal district\n",
        "fo_dict = {}\n",
        "current_fo = 0\n",
        "\n",
        "for item in data_sop_treatment.iloc[:, 0]:\n",
        "  if item.endswith('ФО'):\n",
        "    current_fo = item\n",
        "  else:\n",
        "    fo_dict.update({item: current_fo})"
      ],
      "metadata": {
        "id": "bT6J7pzQk3ki"
      },
      "execution_count": 21,
      "outputs": []
    },
    {
      "cell_type": "code",
      "source": [
        "#read and concatenate the rest of tables from sop_treatment list\n",
        "for file in sop_treatment[1:]:\n",
        "    df = pd.read_excel(file, header=[1,2])\n",
        "    new_cols = sop_new_cols(file)\n",
        "    for key, value in new_cols.items():\n",
        "        df[key] = value\n",
        "    data_sop_treatment = pd.concat([data_sop_treatment, df])"
      ],
      "metadata": {
        "id": "v_xOED24l0HZ"
      },
      "execution_count": 22,
      "outputs": []
    },
    {
      "cell_type": "code",
      "source": [
        "#correct the columns names\n",
        "data_sop_treatment.columns = column_names_change(data_sop_treatment)"
      ],
      "metadata": {
        "id": "zr2vVtWjS0Lw"
      },
      "execution_count": 23,
      "outputs": []
    },
    {
      "cell_type": "code",
      "source": [
        "#remove rows with aggregated data: grouped by federal district and country\n",
        "data_sop_treatment = remove_aggregated_lines(data_sop_treatment)"
      ],
      "metadata": {
        "id": "g3-WxYbMTd1D"
      },
      "execution_count": 24,
      "outputs": []
    },
    {
      "cell_type": "code",
      "source": [
        "#adding column with federal district for every region\n",
        "data_sop_treatment['federal_district'] = data_sop_treatment.iloc[:, 0].map(fo_dict)"
      ],
      "metadata": {
        "id": "22Q8HBtoP0oy"
      },
      "execution_count": 25,
      "outputs": []
    },
    {
      "cell_type": "code",
      "source": [
        "#correcting types, checking result\n",
        "data_sop_treatment['year'] = data_sop_treatment['year'].astype(int)\n",
        "data_sop_treatment.info()"
      ],
      "metadata": {
        "id": "38sCHEklLWKo",
        "colab": {
          "base_uri": "https://localhost:8080/"
        },
        "outputId": "c6bc53a5-392d-475f-fa08-774e583c4a0b"
      },
      "execution_count": 26,
      "outputs": [
        {
          "output_type": "stream",
          "name": "stdout",
          "text": [
            "<class 'pandas.core.frame.DataFrame'>\n",
            "RangeIndex: 2202 entries, 0 to 2201\n",
            "Data columns (total 15 columns):\n",
            " #   Column                                                                                              Non-Null Count  Dtype  \n",
            "---  ------                                                                                              --------------  -----  \n",
            " 0   республика, край, область                                                                           2202 non-null   object \n",
            " 1   число зно, выявленных в отчетном году, радикальное лечение которых закончено в отчетном году        2202 non-null   int64  \n",
            " 2   число зно, выявленных в отчетном году, радикальное лечение которых % от впервые выявленных          2202 non-null   float64\n",
            " 3   число зно, выявленных в отчетном году, радикальное лечение которых будет продолжено (не закончено)  2202 non-null   int64  \n",
            " 4   число зно, выявленных в отчетном году, радикальное лечение которых % от впервые выявленных          2202 non-null   float64\n",
            " 5   в том числе с использованием методов только хирургического, %                                       2202 non-null   float64\n",
            " 6   в том числе с использованием методов только лучевого, %                                             2202 non-null   float64\n",
            " 7   в том числе с использованием методов только лекарственного, %                                       2202 non-null   float64\n",
            " 8   в том числе с использованием методов комбинир. или компл. (кроме химиолучевого), %                  2202 non-null   float64\n",
            " 9   в том числе с использованием методов химиолучевого, %                                               2202 non-null   float64\n",
            " 10  year                                                                                                2202 non-null   int64  \n",
            " 11  localization                                                                                        2202 non-null   object \n",
            " 12  icd_code                                                                                            2202 non-null   object \n",
            " 13  table                                                                                               2202 non-null   object \n",
            " 14  federal_district                                                                                    2202 non-null   object \n",
            "dtypes: float64(7), int64(3), object(5)\n",
            "memory usage: 258.2+ KB\n"
          ]
        }
      ]
    },
    {
      "cell_type": "markdown",
      "source": [
        "### Building the dataset using data from tables Состояние онко помощи (контингент)."
      ],
      "metadata": {
        "id": "cxXFH-0G38Po"
      }
    },
    {
      "cell_type": "code",
      "source": [
        "#read first table\n",
        "data_sop_population = pd.read_excel(sop_population[0], header=[1,2])\n",
        "\n",
        "#create new columns with year, localization of desease, idc code, table number\n",
        "new_cols = sop_new_cols(sop_population[0])\n",
        "for key, value in new_cols.items():\n",
        "    data_sop_population[key] = value"
      ],
      "metadata": {
        "id": "JhGl4G04HMv7"
      },
      "execution_count": 27,
      "outputs": []
    },
    {
      "cell_type": "code",
      "source": [
        "#read and concatenate the rest of tables from sop_population list\n",
        "for file in sop_population[1:]:\n",
        "    df = pd.read_excel(file, header=[1,2])\n",
        "    new_cols = sop_new_cols(file)\n",
        "    for key, value in new_cols.items():\n",
        "        df[key] = value\n",
        "    data_sop_population = pd.concat([data_sop_population, df])"
      ],
      "metadata": {
        "id": "q1ZHRUadKTro"
      },
      "execution_count": 28,
      "outputs": []
    },
    {
      "cell_type": "code",
      "source": [
        "#remove rows with aggregated data: grouped by federal district and country\n",
        "data_sop_population = remove_aggregated_lines(data_sop_population)"
      ],
      "metadata": {
        "id": "z11nlg1HKyTw"
      },
      "execution_count": 29,
      "outputs": []
    },
    {
      "cell_type": "code",
      "source": [
        "#adding column with federal district for every region\n",
        "data_sop_population['federal_district'] = data_sop_population.iloc[:, 0].map(fo_dict)"
      ],
      "metadata": {
        "id": "U0_7Y_b8atfL"
      },
      "execution_count": 30,
      "outputs": []
    },
    {
      "cell_type": "code",
      "source": [
        "#correct the columns names\n",
        "data_sop_population.columns = column_names_change(data_sop_population)"
      ],
      "metadata": {
        "id": "GGM3XONiEdOB"
      },
      "execution_count": 31,
      "outputs": []
    },
    {
      "cell_type": "code",
      "source": [
        "#correcting types, checking result\n",
        "data_sop_population['year'] = data_sop_population['year'].astype(int)\n",
        "data_sop_population.info()"
      ],
      "metadata": {
        "id": "98Okgaqzax02",
        "colab": {
          "base_uri": "https://localhost:8080/"
        },
        "outputId": "c645ea1a-7c3a-4a18-8b48-f1d6f51ed09b"
      },
      "execution_count": 32,
      "outputs": [
        {
          "output_type": "stream",
          "name": "stdout",
          "text": [
            "<class 'pandas.core.frame.DataFrame'>\n",
            "RangeIndex: 2380 entries, 0 to 2379\n",
            "Data columns (total 14 columns):\n",
            " #   Column                                                      Non-Null Count  Dtype  \n",
            "---  ------                                                      --------------  -----  \n",
            " 0   республика, край, область                                   2380 non-null   object \n",
            " 1   взято на учет больных с впервые в жизни уст. диагнозом зно  2380 non-null   int64  \n",
            " 2   в т.ч. выявлены активно, %                                  2380 non-null   float64\n",
            " 3   находились на учете на конец года абсолютное число          2380 non-null   int64  \n",
            " 4   находились на учете на конец года на 100 тыс. населения     2380 non-null   float64\n",
            " 5   из них 5 лет и более абсолютное число                       2380 non-null   int64  \n",
            " 6   из них 5 лет и более % от сост. на учете                    2380 non-null   float64\n",
            " 7   индекс накопления контингентов                              2380 non-null   float64\n",
            " 8   летальность, %                                              2380 non-null   float64\n",
            " 9   year                                                        2380 non-null   int64  \n",
            " 10  localization                                                2380 non-null   object \n",
            " 11  icd_code                                                    2380 non-null   object \n",
            " 12  table                                                       2380 non-null   object \n",
            " 13  federal_district                                            2380 non-null   object \n",
            "dtypes: float64(5), int64(4), object(5)\n",
            "memory usage: 260.4+ KB\n"
          ]
        }
      ]
    },
    {
      "cell_type": "markdown",
      "source": [
        "### Building the dataset using data from tables Злокачественные новообразования (заболеваемость и смертность)"
      ],
      "metadata": {
        "id": "3JShga0OUCqV"
      }
    },
    {
      "cell_type": "code",
      "source": [
        "#function to split the table into 3 tables based on sex and concatenate them\n",
        "#do not split tables of deseases that are applicable to one sex only\n",
        "#create new columns with year, localization of desease, idc code, table number\n",
        "def process_table(table):\n",
        "\n",
        "  workbook = openpyxl.load_workbook(table, read_only=True)\n",
        "  num_columns = workbook.worksheets[0].max_column\n",
        "\n",
        "  #condition checks if the desease is applicable to all sexes or not\n",
        "  if num_columns > 10:\n",
        "    #read the table\n",
        "    df = pd.read_excel(table, header=[5, 6])\n",
        "    #split based on sex, put all 3 into the list\n",
        "    lst = []\n",
        "    for i in range(0, 3):\n",
        "      lst.append(df.iloc[:, [0] + [4*i + j + 1 for j in range(4)]])\n",
        "\n",
        "    for i, item in enumerate(lst):\n",
        "      #correct the columns names\n",
        "      item.columns = column_names_change(item)\n",
        "\n",
        "      #add the column with sex\n",
        "      #find the sex in the table partition, add to the new column\n",
        "      workbook = openpyxl.load_workbook(table, read_only=True)\n",
        "      worksheet = workbook.worksheets[0]\n",
        "      item['sex'] = worksheet.cell(row=5, column=4*i + 2).value\n",
        "\n",
        "    #concatenate\n",
        "    df = pd.concat([lst[0], lst[1], lst[2]])\n",
        "\n",
        "  else:\n",
        "    #read the table\n",
        "    df = pd.read_excel(table, header=[4, 5])\n",
        "    #correct the columns names\n",
        "    df.columns = column_names_change(df)\n",
        "    #add the column with sex\n",
        "    df['sex'] = None\n",
        "\n",
        "  #create new columns with year, localization of desease, idc code, table number\n",
        "  new_cols = zno_new_cols(table)\n",
        "  for key, value in new_cols.items():\n",
        "      df[key] = value\n",
        "\n",
        "  return df"
      ],
      "metadata": {
        "id": "FnfClytEX6Zc"
      },
      "execution_count": 33,
      "outputs": []
    },
    {
      "cell_type": "code",
      "source": [
        "#read the first table\n",
        "data_zno = process_table(zno_incidence[0])\n",
        "data_zno['category'] = 'заболеваемость'"
      ],
      "metadata": {
        "id": "6orcGTyw-uML"
      },
      "execution_count": 34,
      "outputs": []
    },
    {
      "cell_type": "code",
      "source": [
        "#read and concatenate the rest of tables from zno_incidence and zno_mortality lists\n",
        "for i, lst in enumerate([zno_incidence[1:], zno_mortality]):\n",
        "  for file in tqdm(lst):\n",
        "    data_zno = pd.concat([data_zno, process_table(file)])\n",
        "  if i == 0:\n",
        "    data_zno['category'] = data_zno['category'].fillna('заболеваемость')\n",
        "  else:\n",
        "    data_zno['category'] = data_zno['category'].fillna('смертность')"
      ],
      "metadata": {
        "id": "X9LUqRiOxNdA",
        "colab": {
          "base_uri": "https://localhost:8080/"
        },
        "outputId": "bf74106a-1947-491d-866f-ab81779acede"
      },
      "execution_count": 35,
      "outputs": [
        {
          "output_type": "stream",
          "name": "stderr",
          "text": [
            "100%|██████████| 47/47 [01:07<00:00,  1.44s/it]\n",
            "100%|██████████| 35/35 [00:57<00:00,  1.64s/it]\n"
          ]
        }
      ]
    },
    {
      "cell_type": "code",
      "source": [
        "#remove rows with aggregated data: grouped by federal district and country\n",
        "data_zno = remove_aggregated_lines(data_zno)"
      ],
      "metadata": {
        "id": "R3nRX3KDVYOE"
      },
      "execution_count": 36,
      "outputs": []
    },
    {
      "cell_type": "code",
      "source": [
        "#adding column with federal district for every region\n",
        "data_zno['federal_district'] = data_zno.iloc[:, 0].str.strip().map(fo_dict)"
      ],
      "metadata": {
        "id": "m6zIYKZAib1Y"
      },
      "execution_count": 37,
      "outputs": []
    },
    {
      "cell_type": "code",
      "source": [
        "#correcting types\n",
        "data_zno['year'] = data_zno['year'].astype(int)"
      ],
      "metadata": {
        "id": "mrji1ug70Tm7"
      },
      "execution_count": 38,
      "outputs": []
    },
    {
      "cell_type": "code",
      "source": [
        "#checking the tables that didn't contain information about sex\n",
        "data_zno.query('sex.isna()')['localization'].unique()"
      ],
      "metadata": {
        "id": "KywiHUPDErYP",
        "colab": {
          "base_uri": "https://localhost:8080/"
        },
        "outputId": "97cf4c6d-60fd-4f89-c265-73812e769323"
      },
      "execution_count": 39,
      "outputs": [
        {
          "output_type": "execute_result",
          "data": {
            "text/plain": [
              "array(['Вульва', 'Влагалище', 'Половой член', 'Тело матки', 'Яичник',\n",
              "       'Шейка матки', 'Яичко', 'Предстательная железа', 'Плацента',\n",
              "       'Другие новообразования матки', 'Другие женские половые органы',\n",
              "       'Другие мужские половые органы'], dtype=object)"
            ]
          },
          "metadata": {},
          "execution_count": 39
        }
      ]
    },
    {
      "cell_type": "code",
      "source": [
        "#creating dictionary that defines sex based on desease\n",
        "sex_dictionary = {\"Женщины\": [\"Влагалище\", \"Вульва\", \"Яичник\", \"Шейка матки\", \"Тело матки\", \"Плацента\", \"Другие женские половые органы\", \"Другие новообразования матки\"]\n",
        "                  , \"Мужчины\": [\"Половой член\", \"Яичко\", \"Предстательная железа\", \"Другие мужские половые органы\"]}"
      ],
      "metadata": {
        "id": "l3Rvjir4E7Z6"
      },
      "execution_count": 40,
      "outputs": []
    },
    {
      "cell_type": "code",
      "source": [
        "#applying to dataset\n",
        "for key, value in sex_dictionary.items():\n",
        "\n",
        "    condition = data_zno['localization'].isin(value)\n",
        "    data_zno['sex'] = data_zno.apply(\n",
        "        lambda row: key if pd.isna(row['sex']) and condition[row.name] else row['sex'],\n",
        "        axis=1\n",
        "    )"
      ],
      "metadata": {
        "id": "TGOnowuIIAxj"
      },
      "execution_count": 41,
      "outputs": []
    },
    {
      "cell_type": "code",
      "source": [
        "data_zno.info()"
      ],
      "metadata": {
        "id": "OBuVvrY9Lfdm",
        "colab": {
          "base_uri": "https://localhost:8080/"
        },
        "outputId": "f58476a7-b8d1-408f-c5c9-5f0c4f42b2be"
      },
      "execution_count": 42,
      "outputs": [
        {
          "output_type": "stream",
          "name": "stdout",
          "text": [
            "<class 'pandas.core.frame.DataFrame'>\n",
            "RangeIndex: 18615 entries, 0 to 18614\n",
            "Data columns (total 12 columns):\n",
            " #   Column                                              Non-Null Count  Dtype \n",
            "---  ------                                              --------------  ----- \n",
            " 0   республика, край, область                           18615 non-null  object\n",
            " 1   абсолютное число                                    18615 non-null  int64 \n",
            " 2   показатель на 100 тыс. населения \"грубый\"           18615 non-null  object\n",
            " 3   показатель на 100 тыс. населения стандартизованный  18615 non-null  object\n",
            " 4   показатель на 100 тыс. населения ошибка             18615 non-null  object\n",
            " 5   sex                                                 18615 non-null  object\n",
            " 6   year                                                18615 non-null  int64 \n",
            " 7   localization                                        18615 non-null  object\n",
            " 8   icd_code                                            18615 non-null  object\n",
            " 9   table                                               18615 non-null  object\n",
            " 10  category                                            18615 non-null  object\n",
            " 11  federal_district                                    18615 non-null  object\n",
            "dtypes: int64(2), object(10)\n",
            "memory usage: 1.7+ MB\n"
          ]
        }
      ]
    },
    {
      "cell_type": "markdown",
      "source": [
        "### Building the dataset using data from tables Состояние онко помощи (вторая вкладка)."
      ],
      "metadata": {
        "id": "laRu5Uq3NTR7"
      }
    },
    {
      "cell_type": "code",
      "source": [
        "data_sop_second = pd.read_excel(sop_population[0], sheet_name=1, header=[1, 2, 3])\n",
        "\n",
        "new_cols = sop_new_cols(sop_population[0])\n",
        "for key, value in new_cols.items():\n",
        "    data_sop_second[key] = value\n",
        "\n",
        "data_sop_second.columns = column_names_change(data_sop_second)"
      ],
      "metadata": {
        "id": "zzAL70fqNaxm"
      },
      "execution_count": 43,
      "outputs": []
    },
    {
      "cell_type": "code",
      "source": [
        "for file in tqdm(sop_population[1:]):\n",
        "    try:\n",
        "      df = pd.read_excel(file, sheet_name=1, header=[1, 2, 3])\n",
        "    except Exception:\n",
        "      continue\n",
        "    new_cols = sop_new_cols(file)\n",
        "    for key, value in new_cols.items():\n",
        "        df[key] = value\n",
        "    df.columns = data_sop_second.columns\n",
        "    data_sop_second = pd.concat([data_sop_second, df])"
      ],
      "metadata": {
        "id": "QOjsyfuqqlfz",
        "colab": {
          "base_uri": "https://localhost:8080/"
        },
        "outputId": "f3f7185f-215e-4394-bfd4-6fba5476f278"
      },
      "execution_count": 44,
      "outputs": [
        {
          "output_type": "stream",
          "name": "stderr",
          "text": [
            "100%|██████████| 27/27 [00:34<00:00,  1.27s/it]\n"
          ]
        }
      ]
    },
    {
      "cell_type": "code",
      "source": [
        "#removing empty lines that came from numbers of pages\n",
        "data_sop_second = data_sop_second.dropna()"
      ],
      "metadata": {
        "id": "ADAzAHjnUGHK"
      },
      "execution_count": 45,
      "outputs": []
    },
    {
      "cell_type": "code",
      "source": [
        "#removing aggregated rows\n",
        "data_sop_second = remove_aggregated_lines(data_sop_second)"
      ],
      "metadata": {
        "id": "fMYZKwkQ1S64"
      },
      "execution_count": 46,
      "outputs": []
    },
    {
      "cell_type": "code",
      "source": [
        "#adding federal district\n",
        "data_sop_second['federal_district'] = data_sop_second.iloc[:, 0].str.strip().map(fo_dict)"
      ],
      "metadata": {
        "id": "n_W8mc2z1X6I"
      },
      "execution_count": 47,
      "outputs": []
    },
    {
      "cell_type": "code",
      "source": [
        "#correcting types\n",
        "data_sop_second['year'] = data_sop_second['year'].astype(int)\n",
        "data_sop_second.info()"
      ],
      "metadata": {
        "id": "4jgglQDw1hFW",
        "colab": {
          "base_uri": "https://localhost:8080/"
        },
        "outputId": "e011f1dd-17ad-4498-fe8c-75222d89d4b9"
      },
      "execution_count": 48,
      "outputs": [
        {
          "output_type": "stream",
          "name": "stdout",
          "text": [
            "<class 'pandas.core.frame.DataFrame'>\n",
            "RangeIndex: 2206 entries, 0 to 2205\n",
            "Data columns (total 14 columns):\n",
            " #   Column                                                 Non-Null Count  Dtype  \n",
            "---  ------                                                 --------------  -----  \n",
            " 0   республика, край, область                              2206 non-null   object \n",
            " 1   зарегистрировано зно (без учтенных посмертно)          2206 non-null   float64\n",
            " 2   из них диагноз подтвержден морфологически, %           2206 non-null   float64\n",
            " 3   из них имели стадию заболевания, % i                   2206 non-null   object \n",
            " 4   из них имели стадию заболевания, % ii                  2206 non-null   object \n",
            " 5   из них имели стадию заболевания, % iii                 2206 non-null   object \n",
            " 6   из них имели стадию заболевания, % iv                  2206 non-null   object \n",
            " 7   из них имели стадию заболевания, % не установлена      2206 non-null   object \n",
            " 8   летальность на первом году с момента уст. диагноза, %  2206 non-null   float64\n",
            " 9   year                                                   2206 non-null   int64  \n",
            " 10  localization                                           2206 non-null   object \n",
            " 11  icd_code                                               2206 non-null   object \n",
            " 12  table                                                  2206 non-null   object \n",
            " 13  federal_district                                       2206 non-null   object \n",
            "dtypes: float64(3), int64(1), object(10)\n",
            "memory usage: 241.4+ KB\n"
          ]
        }
      ]
    },
    {
      "cell_type": "markdown",
      "source": [
        "### Uploading datasets to google sheets."
      ],
      "metadata": {
        "id": "G-qk_tIRfAVn"
      }
    },
    {
      "cell_type": "code",
      "source": [
        "#connecting\n",
        "scope = [\"https://spreadsheets.google.com/feeds\", \"https://www.googleapis.com/auth/drive\"]\n",
        "creds = ServiceAccountCredentials.from_json_keyfile_name(f\"{load_path}/onco-file-processor-dc07dc7f89c4.json\", scope)\n",
        "client = gspread.authorize(creds)"
      ],
      "metadata": {
        "id": "ltJ6WPENykJZ"
      },
      "execution_count": 49,
      "outputs": []
    },
    {
      "cell_type": "code",
      "source": [
        "#creating dictionary with names of datasets and data\n",
        "final_list = {\"Oncology care status (treatment)\": data_sop_treatment\n",
        "              , \"Oncology care status (population)\": data_sop_population\n",
        "              , \"Oncology care status (population) table 2\": data_sop_second\n",
        "              , \"Malignant neoplasms: incidence and mortality\": data_zno}"
      ],
      "metadata": {
        "id": "1o1-2-HifDdo"
      },
      "execution_count": 50,
      "outputs": []
    },
    {
      "cell_type": "code",
      "source": [
        "for key, value in final_list.items():\n",
        "  spreadsheet = client.create(key)\n",
        "  worksheet = spreadsheet.sheet1\n",
        "  worksheet.update([value.columns.values.tolist()] + value.values.tolist())\n",
        "  spreadsheet.share(\"\", perm_type=\"anyone\", role=\"reader\")\n",
        "  print(f'{key}: {spreadsheet.url}')"
      ],
      "metadata": {
        "id": "INtNkzFPFnei",
        "colab": {
          "base_uri": "https://localhost:8080/"
        },
        "outputId": "e619add4-ae64-45bc-e488-1859abc6d390"
      },
      "execution_count": 51,
      "outputs": [
        {
          "output_type": "stream",
          "name": "stdout",
          "text": [
            "Oncology care status (treatment): https://docs.google.com/spreadsheets/d/11ch2hH_jGhFBuNQslV2F_2b8GN374RS-c6bS2X7CnVs\n",
            "Oncology care status (population): https://docs.google.com/spreadsheets/d/1P33EZT-CQqu1atFeqAsPWCy-Bp3rvw87iPRnJckTQcM\n",
            "Oncology care status (population) table 2: https://docs.google.com/spreadsheets/d/1KKfeebttMfPreGBm1Zzm0ag5fBHLdcM9fgZLos2HQUc\n",
            "Malignant neoplasms: incidence and mortality: https://docs.google.com/spreadsheets/d/1uj9oTNnAV_8FntB5Lsrw7Rskbdjc9uXepH0pVQzSR7M\n"
          ]
        }
      ]
    }
  ]
}